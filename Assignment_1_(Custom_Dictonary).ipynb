{
  "nbformat": 4,
  "nbformat_minor": 0,
  "metadata": {
    "colab": {
      "provenance": [],
      "authorship_tag": "ABX9TyM8FMzowFyTPUlOGdTgX+SS",
      "include_colab_link": true
    },
    "kernelspec": {
      "name": "python3",
      "display_name": "Python 3"
    },
    "language_info": {
      "name": "python"
    }
  },
  "cells": [
    {
      "cell_type": "markdown",
      "metadata": {
        "id": "view-in-github",
        "colab_type": "text"
      },
      "source": [
        "<a href=\"https://colab.research.google.com/github/tararauzumaki/uits-machine-learning-lab/blob/main/Assignment_1_(Custom_Dictonary).ipynb\" target=\"_parent\"><img src=\"https://colab.research.google.com/assets/colab-badge.svg\" alt=\"Open In Colab\"/></a>"
      ]
    },
    {
      "cell_type": "code",
      "execution_count": 2,
      "metadata": {
        "colab": {
          "base_uri": "https://localhost:8080/"
        },
        "id": "huyh3XioRN9f",
        "outputId": "bc3e7cc2-8f97-46bd-b3da-e98d0e6f462c"
      },
      "outputs": [
        {
          "output_type": "stream",
          "name": "stdout",
          "text": [
            "Enter your friend's name: Rasel\n",
            "Rasel's unique characteristic: Funny\n"
          ]
        }
      ],
      "source": [
        "# If asked a frind's name, this will give that friend's unique characteristic in one word.\n",
        "\n",
        "def get_friend_characteristic(friend_name):\n",
        "\n",
        "  friends = {\n",
        "    \"Ayesha\": \"Creative\",\n",
        "    \"Shahin\": \"Intelligent\",\n",
        "    \"Razia\": \"Kind\",\n",
        "    \"Rasel\": \"Funny\",\n",
        "    \"Maya\": \"Brave\",\n",
        "    \"Kamrul\": \"Honest\",\n",
        "    \"Tania\": \"Talented\",\n",
        "    \"Hasina\": \"Determined\",\n",
        "    \"Nadira\": \"Optimistic\",\n",
        "    \"Jahangir\": \"Reliable\"\n",
        "}\n",
        "\n",
        "\n",
        "  return friends.get(friend_name)\n",
        "\n",
        "# Example usage:\n",
        "friend_name = input(\"Enter your friend's name: \")\n",
        "characteristic = get_friend_characteristic(friend_name)\n",
        "\n",
        "if characteristic:\n",
        "  print(f\"{friend_name}'s unique characteristic: {characteristic}\")\n",
        "else:\n",
        "  print(f\"Friend '{friend_name}' not found.\")\n"
      ]
    }
  ]
}